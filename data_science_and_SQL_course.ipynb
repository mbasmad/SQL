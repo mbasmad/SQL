{
 "cells": [
  {
   "cell_type": "markdown",
   "id": "953abdd5-cb82-428e-ba81-fd9336b01e17",
   "metadata": {},
   "source": [
    "# Project description"
   ]
  },
  {
   "cell_type": "markdown",
   "id": "c10443bf-8a47-4c71-bae2-56ae517bbc70",
   "metadata": {},
   "source": [
    "The following project is the final assigment of the <b>SQL for Data Science</b> course of the <b>University of California, Davis</b>. based on datasets sourced from the <b>United States Department of Agriculture's (USDA) open data portal</b>. First, the CSV files will be uploaded into SQL tables, and then several queries will be performed to retrieve the necessary data to answer the required questions.\n",
    "\n",
    "<b><u>Scenario</u></b>:\n",
    "\n",
    "Data Scientist at USDA (United States Department of Agriculture)\n",
    "\n",
    "<b><u>Context</u></b>:\n",
    "\n",
    "<u>The datasets include</u>:\n",
    "\n",
    "milk_production, cheese_production, coffee_production, honey_production, yogurt_production, and a state_lookup table.\n",
    "\n",
    "The data spans multiple years and states, with varying levels of production for each commodity.\n",
    "\n",
    "<u>Objectives</u>:\n",
    "\n",
    "Assess state-by-state production for each commodity.\n",
    "\n",
    "Identify trends or anomalies.\n",
    "\n",
    "Offer data-backed suggestions for areas that may need more attention."
   ]
  },
  {
   "cell_type": "markdown",
   "id": "8a5ed97d-3965-41a7-9ad6-25dc77839946",
   "metadata": {},
   "source": [
    "## Libraries and custom functions"
   ]
  },
  {
   "cell_type": "code",
   "execution_count": 403,
   "id": "051eafa1-efb6-4eae-a85c-54e9631791ea",
   "metadata": {},
   "outputs": [],
   "source": [
    "import pandas as pd\n",
    "import numpy as np\n",
    "import sqlite3\n",
    "import os"
   ]
  },
  {
   "cell_type": "code",
   "execution_count": 404,
   "id": "662eb5d5-d2fb-42df-9f90-f8fa14c9410e",
   "metadata": {},
   "outputs": [],
   "source": [
    "def my_query(query):\n",
    "    # Execute the query\n",
    "    cursor.execute(query)\n",
    "    \n",
    "    # Fetch all results from the executed query\n",
    "    results = cursor.fetchall()\n",
    "    \n",
    "    # Print the results\n",
    "    for row in results:\n",
    "        print(row)"
   ]
  },
  {
   "cell_type": "markdown",
   "id": "cba901f1-ec17-40aa-8cf1-ebd43386fda7",
   "metadata": {
    "jp-MarkdownHeadingCollapsed": true
   },
   "source": [
    "## Tables uploading"
   ]
  },
  {
   "cell_type": "markdown",
   "id": "d90ae77e-6d3e-40ca-9f5c-06a6da0deaec",
   "metadata": {
    "jp-MarkdownHeadingCollapsed": true
   },
   "source": [
    "### Importing files"
   ]
  },
  {
   "cell_type": "code",
   "execution_count": 405,
   "id": "97f78721-6ced-425d-b858-3c0c9addd01e",
   "metadata": {},
   "outputs": [],
   "source": [
    "directory = '/home/martin/Documents/sql_course'\n",
    "files = os.listdir(directory)\n",
    "files = []\n",
    "for f in os.listdir(directory):\n",
    "    full_path = os.path.join(directory, f)\n",
    "    if os.path.isfile(full_path) and full_path.endswith('csv'):\n",
    "        files.append(full_path)                       "
   ]
  },
  {
   "cell_type": "code",
   "execution_count": 406,
   "id": "c04a8673-48bd-4fc7-9210-b20381150f79",
   "metadata": {},
   "outputs": [],
   "source": [
    "tables = {}\n",
    "for f in files:\n",
    "    name = f.split('/')[-1].split('.')[0]\n",
    "    tables[name] = pd.read_csv(f)"
   ]
  },
  {
   "cell_type": "code",
   "execution_count": 407,
   "id": "f13e07a3-3546-446e-9524-a01c02f8267d",
   "metadata": {},
   "outputs": [
    {
     "name": "stdout",
     "output_type": "stream",
     "text": [
      "Year              int64\n",
      "Period           object\n",
      "Geo_Level        object\n",
      "State_ANSI      float64\n",
      "Commodity_ID      int64\n",
      "Domain           object\n",
      "Value            object\n",
      "dtype: object\n",
      "\n",
      "Year              int64\n",
      "Geo_Level        object\n",
      "State_ANSI      float64\n",
      "Commodity_ID      int64\n",
      "Value            object\n",
      "dtype: object\n",
      "\n",
      "State         object\n",
      "State_ANSI     int64\n",
      "dtype: object\n",
      "\n",
      "Year             int64\n",
      "Period          object\n",
      "Geo_Level       object\n",
      "State_ANSI       int64\n",
      "Commodity_ID     int64\n",
      "Value           object\n",
      "dtype: object\n",
      "\n",
      "Year              int64\n",
      "Period           object\n",
      "Geo_Level        object\n",
      "State_ANSI      float64\n",
      "Commodity_ID      int64\n",
      "Domain           object\n",
      "Value            object\n",
      "dtype: object\n",
      "\n",
      "Year             int64\n",
      "Period          object\n",
      "Geo_Level       object\n",
      "State_ANSI       int64\n",
      "Commodity_ID     int64\n",
      "Domain          object\n",
      "Value           object\n",
      "dtype: object\n",
      "\n",
      "Year              int64\n",
      "Period           object\n",
      "Geo_Level        object\n",
      "State_ANSI      float64\n",
      "Commodity_ID      int64\n",
      "Value            object\n",
      "dtype: object\n",
      "\n"
     ]
    }
   ],
   "source": [
    "for table in tables.keys():\n",
    "    print(tables[table].dtypes)\n",
    "    print()"
   ]
  },
  {
   "cell_type": "markdown",
   "id": "a6166c76-cbea-4ec2-9885-153d9c5635fd",
   "metadata": {
    "jp-MarkdownHeadingCollapsed": true
   },
   "source": [
    "### Preprocessing tables"
   ]
  },
  {
   "cell_type": "markdown",
   "id": "7cc65d38-2817-4648-9b81-325e2845e1d4",
   "metadata": {},
   "source": [
    "The column Value has object as dtype thus it needs to be pre-processed before to be incorporated to the SQLite database. as the they have several values that cannot be interpreted as a specific column type. For example, the Value column has a comma as a thousand separator.  "
   ]
  },
  {
   "cell_type": "code",
   "execution_count": 408,
   "id": "4466c6db-785c-463c-a83b-61c50da02c8a",
   "metadata": {},
   "outputs": [],
   "source": [
    "for table in tables.keys():\n",
    "    if 'Value' in tables[table].columns:\n",
    "        # deleting thousand separator and transforming to numeric\n",
    "        tables[table].Value= tables[table].Value.replace(',', '', regex=True)\n",
    "        tables[table].Value = pd.to_numeric(tables[table].Value, errors='coerce')"
   ]
  },
  {
   "cell_type": "code",
   "execution_count": 409,
   "id": "ff7bf2eb-3b9e-40ab-8aed-145fa3249b90",
   "metadata": {},
   "outputs": [
    {
     "name": "stdout",
     "output_type": "stream",
     "text": [
      "Year              int64\n",
      "Period           object\n",
      "Geo_Level        object\n",
      "State_ANSI      float64\n",
      "Commodity_ID      int64\n",
      "Domain           object\n",
      "Value           float64\n",
      "dtype: object\n",
      "\n",
      "Year              int64\n",
      "Geo_Level        object\n",
      "State_ANSI      float64\n",
      "Commodity_ID      int64\n",
      "Value             int64\n",
      "dtype: object\n",
      "\n",
      "State         object\n",
      "State_ANSI     int64\n",
      "dtype: object\n",
      "\n",
      "Year             int64\n",
      "Period          object\n",
      "Geo_Level       object\n",
      "State_ANSI       int64\n",
      "Commodity_ID     int64\n",
      "Value            int64\n",
      "dtype: object\n",
      "\n",
      "Year              int64\n",
      "Period           object\n",
      "Geo_Level        object\n",
      "State_ANSI      float64\n",
      "Commodity_ID      int64\n",
      "Domain           object\n",
      "Value             int64\n",
      "dtype: object\n",
      "\n",
      "Year              int64\n",
      "Period           object\n",
      "Geo_Level        object\n",
      "State_ANSI        int64\n",
      "Commodity_ID      int64\n",
      "Domain           object\n",
      "Value           float64\n",
      "dtype: object\n",
      "\n",
      "Year              int64\n",
      "Period           object\n",
      "Geo_Level        object\n",
      "State_ANSI      float64\n",
      "Commodity_ID      int64\n",
      "Value           float64\n",
      "dtype: object\n",
      "\n"
     ]
    }
   ],
   "source": [
    "for table in tables.keys():\n",
    "    print(tables[table].dtypes)\n",
    "    print()"
   ]
  },
  {
   "cell_type": "markdown",
   "id": "94ca26fb-b368-4996-b84e-0380ecf4804c",
   "metadata": {
    "jp-MarkdownHeadingCollapsed": true
   },
   "source": [
    "### Uploding tables to SQL"
   ]
  },
  {
   "cell_type": "code",
   "execution_count": 410,
   "id": "4b2c81fb-f622-4aa4-8f82-c7a20fcfeba7",
   "metadata": {},
   "outputs": [],
   "source": [
    "database = 'sql_course.db'\n",
    "for table in tables.keys():\n",
    "    conn = sqlite3.connect(database)\n",
    "    cursor = conn.cursor()\n",
    "    tables[table].to_sql(table, conn, if_exists='replace', index=False)\n",
    "    conn.commit()\n",
    "    conn.close()"
   ]
  },
  {
   "cell_type": "markdown",
   "id": "19a4da78-e59e-4d78-a1bc-199438f3e30b",
   "metadata": {},
   "source": [
    "# Questions"
   ]
  },
  {
   "cell_type": "code",
   "execution_count": 411,
   "id": "9a6568e1-6233-48c1-9c5b-8455697109c4",
   "metadata": {},
   "outputs": [],
   "source": [
    "# database connection\n",
    "database = 'sql_course.db'\n",
    "conn = sqlite3.connect(database)\n",
    "cursor = conn.cursor()"
   ]
  },
  {
   "cell_type": "markdown",
   "id": "07a9d5a0-0425-4c56-ab39-add416c8deb7",
   "metadata": {},
   "source": [
    "## Question 1\n",
    "Can you find out the total milk production for 2023? Your manager wants this information for the yearly report.\n",
    "\n",
    "What is the total milk production for 2023?"
   ]
  },
  {
   "cell_type": "code",
   "execution_count": 412,
   "id": "65be74bc-efba-41a1-94e3-f49a2aed98f0",
   "metadata": {},
   "outputs": [
    {
     "name": "stdout",
     "output_type": "stream",
     "text": [
      "(91812000000,)\n"
     ]
    }
   ],
   "source": [
    "query = \"\"\"\n",
    "SELECT SUM(Value) \n",
    "FROM milk_production \n",
    "WHERE Year = 2023;\n",
    "\"\"\"\n",
    "my_query(query)"
   ]
  },
  {
   "cell_type": "markdown",
   "id": "87a16407-6880-4e1e-a1de-613819362656",
   "metadata": {},
   "source": [
    "## Question 2"
   ]
  },
  {
   "cell_type": "markdown",
   "id": "fda292bb-a496-4429-bc24-70ff7158e661",
   "metadata": {},
   "source": [
    "Which states had cheese production greater than 100 million in April 2023? The Cheese Department wants to focus their marketing efforts there. \n",
    "\n",
    "How many states are there?"
   ]
  },
  {
   "cell_type": "code",
   "execution_count": 413,
   "id": "459f2dfd-08aa-482b-8473-279ac4655082",
   "metadata": {},
   "outputs": [
    {
     "name": "stdout",
     "output_type": "stream",
     "text": [
      "(2,)\n"
     ]
    }
   ],
   "source": [
    "query = \"\"\"\n",
    "SELECT COUNT(c.Value)\n",
    "FROM state_lookup l\n",
    "INNER JOIN cheese_production c\n",
    "ON l.State_ANSI = c.State_ANSI\n",
    "WHERE c.Year = 2023 AND c.Period = 'APR' AND c.Value > 100000000; \n",
    "\"\"\"\n",
    "\n",
    "my_query(query)"
   ]
  },
  {
   "cell_type": "markdown",
   "id": "554993f1-df67-4f31-b61b-f343fa0a59ef",
   "metadata": {},
   "source": [
    "## Question 3"
   ]
  },
  {
   "cell_type": "markdown",
   "id": "58738702-6622-4391-8c40-7ffd75954965",
   "metadata": {},
   "source": [
    "Your manager wants to know how coffee production has changed over the years. \n",
    "\n",
    "What is the total value of coffee production for 2011?"
   ]
  },
  {
   "cell_type": "code",
   "execution_count": 414,
   "id": "11b09bb6-e82c-432b-95af-89a6bc455dfd",
   "metadata": {},
   "outputs": [
    {
     "name": "stdout",
     "output_type": "stream",
     "text": [
      "(2011, 7600000)\n"
     ]
    }
   ],
   "source": [
    "query = \"\"\"\n",
    "SELECT Year\n",
    ", SUM(Value) \n",
    "FROM coffee_production \n",
    "WHERE Year = 2011;\n",
    "\"\"\"\n",
    "my_query(query)"
   ]
  },
  {
   "cell_type": "markdown",
   "id": "27afb3cf-f441-401f-8d02-e94189bbfe4c",
   "metadata": {},
   "source": [
    "## Question 4"
   ]
  },
  {
   "cell_type": "markdown",
   "id": "ef242135-3208-4da6-8d6a-8f690b80652a",
   "metadata": {},
   "source": [
    "There's a meeting with the Honey Council next week. Find the average honey production for 2022 so you're prepared."
   ]
  },
  {
   "cell_type": "code",
   "execution_count": 415,
   "id": "684137ba-2db5-45a6-8e3e-212b212900e4",
   "metadata": {},
   "outputs": [
    {
     "name": "stdout",
     "output_type": "stream",
     "text": [
      "(3133275.0,)\n"
     ]
    }
   ],
   "source": [
    "query = \"\"\"\n",
    "SELECT AVG(Value) \n",
    "FROM honey_production \n",
    "WHERE Year = 2022;\n",
    "\"\"\"\n",
    "\n",
    "my_query(query)"
   ]
  },
  {
   "cell_type": "markdown",
   "id": "f9525152-e54a-49ab-859f-bd86bde0827c",
   "metadata": {},
   "source": [
    "## Question 5"
   ]
  },
  {
   "cell_type": "markdown",
   "id": "7854ec00-aed6-4d86-974c-fcfdaa3b4816",
   "metadata": {},
   "source": [
    "The State Relations team wants a list of all states names with their corresponding ANSI codes. Can you generate that list?\n",
    "\n",
    "What is the State_ANSI code for Florida?"
   ]
  },
  {
   "cell_type": "code",
   "execution_count": 416,
   "id": "67d6afb3-22c1-4aee-83bf-507b71adb7b3",
   "metadata": {},
   "outputs": [
    {
     "name": "stdout",
     "output_type": "stream",
     "text": [
      "('FLORIDA', 12)\n"
     ]
    }
   ],
   "source": [
    "query = \"\"\"\n",
    "SELECT * \n",
    "FROM state_lookup\n",
    "WHERE State = 'FLORIDA';\n",
    "\"\"\"\n",
    "\n",
    "my_query(query)"
   ]
  },
  {
   "cell_type": "markdown",
   "id": "a37c305c-7991-4950-8b89-3b911f0147b3",
   "metadata": {},
   "source": [
    "## Question 6"
   ]
  },
  {
   "cell_type": "markdown",
   "id": "95f6af1d-be55-4708-bbda-aeed5914a60d",
   "metadata": {},
   "source": [
    "For a cross-commodity report, can you list all states with their cheese production values, even if they didn't produce any cheese in April of 2023?\n",
    "\n",
    "What is the total for NEW JERSEY?"
   ]
  },
  {
   "cell_type": "code",
   "execution_count": 419,
   "id": "debe63c9-6d4b-4024-8276-578d6d3ec640",
   "metadata": {},
   "outputs": [
    {
     "name": "stdout",
     "output_type": "stream",
     "text": [
      "('NEW JERSEY', 4889000.0)\n"
     ]
    }
   ],
   "source": [
    "query = \"\"\"\n",
    "SELECT s.State, \n",
    "c.Value\n",
    "FROM state_lookup s\n",
    "LEFT JOIN cheese_production c \n",
    "ON s.State_ANSI = c.State_ANSI AND c.Year = 2023 AND c.Period = 'APR'\n",
    "WHERE s.State = 'NEW JERSEY';\n",
    "\"\"\"\n",
    "\n",
    "my_query(query)"
   ]
  },
  {
   "cell_type": "markdown",
   "id": "22c0002a-9d40-4999-a3ff-13120e6ab929",
   "metadata": {},
   "source": [
    "## Question 7"
   ]
  },
  {
   "cell_type": "markdown",
   "id": "ba235676-f96d-445d-8ff6-97d2cbad1ab0",
   "metadata": {},
   "source": [
    "List all states from state_lookup that are missing from milk_production in 2023.\n",
    "\n",
    "How many states are there?"
   ]
  },
  {
   "cell_type": "code",
   "execution_count": 397,
   "id": "52a75a16-235e-4025-a9b5-655b42604bce",
   "metadata": {},
   "outputs": [
    {
     "name": "stdout",
     "output_type": "stream",
     "text": [
      "(26,)\n"
     ]
    }
   ],
   "source": [
    "query = \"\"\"\n",
    "SELECT COUNT(l.State_ANSI)\n",
    "FROM state_lookup l\n",
    "LEFT JOIN milk_production m\n",
    "ON l.State_ANSI = m.State_ANSI AND m.Year = 2023\n",
    "WHERE m.State_ANSI IS NULL;\n",
    "\"\"\"\n",
    "\n",
    "my_query(query)"
   ]
  },
  {
   "cell_type": "markdown",
   "id": "fac190e9-b62c-435a-b3aa-07f7c4c4171a",
   "metadata": {},
   "source": [
    "## Question 8"
   ]
  },
  {
   "cell_type": "markdown",
   "id": "ebc3b504-b4c4-4566-9fee-e17f03f13979",
   "metadata": {},
   "source": [
    "List all states with their cheese production values, including states that didn't produce any cheese in April 2023.\n",
    "\n",
    "Did Delaware produce any cheese in April 2023?"
   ]
  },
  {
   "cell_type": "code",
   "execution_count": 398,
   "id": "11d253be-6a20-4191-85cf-03cfe4c725d4",
   "metadata": {},
   "outputs": [
    {
     "name": "stdout",
     "output_type": "stream",
     "text": [
      "('DELAWARE', None)\n"
     ]
    }
   ],
   "source": [
    "query = \"\"\"\n",
    "SELECT s.State\n",
    ", c.Value\n",
    "FROM state_lookup s\n",
    "LEFT JOIN cheese_production c \n",
    "ON s.State_ANSI = c.State_ANSI AND c.Year = 2023 AND c.Period = 'APR'\n",
    "WHERE s.State = 'DELAWARE';\n",
    "\"\"\"\n",
    "\n",
    "my_query(query)"
   ]
  },
  {
   "cell_type": "markdown",
   "id": "bbcb16ff-277d-411d-9a88-acfa5064f767",
   "metadata": {},
   "source": [
    "## Question 9"
   ]
  },
  {
   "cell_type": "markdown",
   "id": "5da7f104-9c1c-446d-85e6-927826ac98da",
   "metadata": {},
   "source": [
    "Find the average coffee production for all years where the honey production exceeded 1 million."
   ]
  },
  {
   "cell_type": "code",
   "execution_count": 425,
   "id": "373f0211-90c0-4ebc-afc9-7a9828c6a608",
   "metadata": {},
   "outputs": [
    {
     "name": "stdout",
     "output_type": "stream",
     "text": [
      "(6426666.666666667,)\n"
     ]
    }
   ],
   "source": [
    "query = \"\"\"\n",
    "SELECT AVG(c.Value) AS avg_coffee_production\n",
    "FROM coffee_production c\n",
    "WHERE c.Year IN (\n",
    "    SELECT h.Year\n",
    "    FROM honey_production h\n",
    "    WHERE h.Value > 1000000\n",
    ");\n",
    "\"\"\"\n",
    "\n",
    "my_query(query)"
   ]
  },
  {
   "cell_type": "code",
   "execution_count": 401,
   "id": "24f5b923-d9a7-482c-91f7-90d56ff20279",
   "metadata": {},
   "outputs": [],
   "source": [
    "# Closing connection of cursor\n",
    "conn.close()"
   ]
  },
  {
   "cell_type": "code",
   "execution_count": null,
   "id": "44fb4025-dd76-4df6-86d9-049bb974f987",
   "metadata": {},
   "outputs": [],
   "source": []
  }
 ],
 "metadata": {
  "kernelspec": {
   "display_name": "Python 3 (ipykernel)",
   "language": "python",
   "name": "python3"
  },
  "language_info": {
   "codemirror_mode": {
    "name": "ipython",
    "version": 3
   },
   "file_extension": ".py",
   "mimetype": "text/x-python",
   "name": "python",
   "nbconvert_exporter": "python",
   "pygments_lexer": "ipython3",
   "version": "3.12.4"
  }
 },
 "nbformat": 4,
 "nbformat_minor": 5
}
